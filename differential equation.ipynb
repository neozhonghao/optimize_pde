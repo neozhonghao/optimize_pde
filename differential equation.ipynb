{
 "cells": [
  {
   "cell_type": "code",
   "execution_count": 1,
   "id": "a2e7e17a-172f-4187-81e4-9444617316c1",
   "metadata": {},
   "outputs": [],
   "source": [
    "import numpy as np\n",
    "import matplotlib.pyplot as plt"
   ]
  },
  {
   "cell_type": "code",
   "execution_count": 18,
   "id": "59f742cc-9742-4a7d-a57c-4a6c3b4305d1",
   "metadata": {},
   "outputs": [],
   "source": [
    "h = 0.001\n",
    "start = -2\n",
    "end = 2\n",
    "x = np.arange(start,end,h)\n",
    "# y_actual = 5*np.exp(0.5*(x**2))\n",
    "# y_actual = np.cos(x)\n",
    "y_actual = x**3\n",
    "# yp_actual = -np.sin(x)\n",
    "yp_actual = 3*x**2\n",
    "# d2y/dx2 = -y \n",
    "# y(0) = 1\n",
    "\n",
    "# def f(x,y,yp):\n",
    "#     return -y\n",
    "\n",
    "def f(x,y,yp):\n",
    "    return 6*x\n"
   ]
  },
  {
   "cell_type": "code",
   "execution_count": 51,
   "id": "a299828d-3213-4b36-b1e3-3548b376c8f3",
   "metadata": {},
   "outputs": [],
   "source": [
    "y_forwardeuler = np.zeros(x.shape)\n",
    "y_forwardeuler[0] = y_actual[0]\n",
    "\n",
    "x_i = x[0]\n",
    "y_i = y_forwardeuler[0]\n",
    "for i in range(1,x.shape[0]):\n",
    "    y_forwardeuler[i] = y_i + h*f(x_i,y_i)\n",
    "    x_i = x[i]    \n",
    "    y_i = y_forwardeuler[i]"
   ]
  },
  {
   "cell_type": "code",
   "execution_count": 19,
   "id": "f1a87779-f322-4b51-b966-15bb44d42b80",
   "metadata": {},
   "outputs": [],
   "source": [
    "\n",
    "y_forwardeuler = np.zeros(x.shape)\n",
    "y_forwardeuler[0] = y_actual[0]\n",
    "\n",
    "yp_forwardeuler = np.zeros(x.shape)\n",
    "yp_forwardeuler[0] = yp_actual[0]\n",
    "\n",
    "x_i = x[0]\n",
    "y_i = y_forwardeuler[0]\n",
    "yp_i = yp_forwardeuler[0]\n",
    "\n",
    "for i in range(1,x.shape[0]):\n",
    "    y_forwardeuler[i] = y_i + h*yp_i\n",
    "    yp_forwardeuler[i] = yp_i + h*f(x_i,y_i,yp_i)\n",
    "    x_i = x[i]    \n",
    "    y_i = y_forwardeuler[i]\n",
    "    yp_i = yp_forwardeuler[i]"
   ]
  },
  {
   "cell_type": "code",
   "execution_count": 13,
   "id": "e53e5387-2bb8-40d5-80ce-ebabe22df7d3",
   "metadata": {},
   "outputs": [
    {
     "ename": "TypeError",
     "evalue": "f() missing 1 required positional argument: 'yp'",
     "output_type": "error",
     "traceback": [
      "\u001b[0;31m---------------------------------------------------------------------------\u001b[0m",
      "\u001b[0;31mTypeError\u001b[0m                                 Traceback (most recent call last)",
      "Input \u001b[0;32mIn [13]\u001b[0m, in \u001b[0;36m<cell line: 6>\u001b[0;34m()\u001b[0m\n\u001b[1;32m      5\u001b[0m y_i \u001b[38;5;241m=\u001b[39m y_heun[\u001b[38;5;241m0\u001b[39m]\n\u001b[1;32m      6\u001b[0m \u001b[38;5;28;01mfor\u001b[39;00m i \u001b[38;5;129;01min\u001b[39;00m \u001b[38;5;28mrange\u001b[39m(\u001b[38;5;241m1\u001b[39m,x\u001b[38;5;241m.\u001b[39mshape[\u001b[38;5;241m0\u001b[39m]):\n\u001b[0;32m----> 7\u001b[0m     f0 \u001b[38;5;241m=\u001b[39m \u001b[43mf\u001b[49m\u001b[43m(\u001b[49m\u001b[43mx_i\u001b[49m\u001b[43m,\u001b[49m\u001b[43my_i\u001b[49m\u001b[43m)\u001b[49m\n\u001b[1;32m      8\u001b[0m     f1 \u001b[38;5;241m=\u001b[39m f(x_i\u001b[38;5;241m+\u001b[39mh,y_i \u001b[38;5;241m+\u001b[39m h\u001b[38;5;241m*\u001b[39mf0)\n\u001b[1;32m      9\u001b[0m     y_heun[i] \u001b[38;5;241m=\u001b[39m y_i \u001b[38;5;241m+\u001b[39m h\u001b[38;5;241m*\u001b[39m\u001b[38;5;241m0.5\u001b[39m\u001b[38;5;241m*\u001b[39m(f0\u001b[38;5;241m+\u001b[39mf1)\n",
      "\u001b[0;31mTypeError\u001b[0m: f() missing 1 required positional argument: 'yp'"
     ]
    }
   ],
   "source": [
    "y_heun = np.zeros(x.shape)\n",
    "y_heun[0] = y_actual[0]\n",
    "\n",
    "x_i = x[0]\n",
    "y_i = y_heun[0]\n",
    "for i in range(1,x.shape[0]):\n",
    "    f0 = f(x_i,y_i)\n",
    "    f1 = f(x_i+h,y_i + h*f0)\n",
    "    y_heun[i] = y_i + h*0.5*(f0+f1)\n",
    "    x_i = x[i]    \n",
    "    y_i = y_heun[i]"
   ]
  },
  {
   "cell_type": "code",
   "execution_count": 20,
   "id": "2b47e57c-1ae8-41e8-acdf-bfd1ccf684ad",
   "metadata": {},
   "outputs": [],
   "source": [
    "y_heun = np.zeros(x.shape)\n",
    "y_heun[0] = y_actual[0]\n",
    "\n",
    "yp_heun = np.zeros(x.shape)\n",
    "yp_heun[0] = yp_actual[0]\n",
    "\n",
    "x_i = x[0]\n",
    "y_i = np.float32([y_heun[0],yp_heun[0]])\n",
    "\n",
    "for i in range(1,x.shape[0]):\n",
    "    \n",
    "    f0 = np.float32([y_i[1], f(x_i,y_i[0],y_i[1])])\n",
    "    f1 = np.float32([y_i[1]+h*f0[1], f(x_i+h,y_i[0]+h*f0[0],y_i[1]+h*f0[1])])\n",
    "\n",
    "    y_heun[i], yp_heun[i] = y_i + 0.5*h*(f0+f1)\n",
    "    x_i = x[i]    \n",
    "    y_i = np.float32([y_heun[i],yp_heun[i]])"
   ]
  },
  {
   "cell_type": "code",
   "execution_count": 53,
   "id": "50d515a7-3af2-4357-988d-8202b1321892",
   "metadata": {},
   "outputs": [],
   "source": [
    "y_rungekutta = np.zeros(x.shape)\n",
    "y_rungekutta[0] = y_actual[0]\n",
    "\n",
    "x_i = x[0]\n",
    "y_i = y_rungekutta[0]\n",
    "for i in range(1,x.shape[0]):\n",
    "    f0 = f(x_i, y_i)\n",
    "    f1 = f(x_i+0.5*h, y_i+0.5*h*f0)\n",
    "    f2 = f(x_i+0.5*h, y_i+0.5*h*f1)\n",
    "    f3 = f(x_i+h, y_i+h*f2)\n",
    "    y_rungekutta[i] = y_i + h*(f0+2*f1+2*f2+f3)/6\n",
    "    x_i = x[i]    \n",
    "    y_i = y_rungekutta[i]"
   ]
  },
  {
   "cell_type": "code",
   "execution_count": 21,
   "id": "1d5c6264-5b00-4a43-9393-c2024a1c8ef9",
   "metadata": {},
   "outputs": [],
   "source": [
    "y_rungekutta = np.zeros(x.shape)\n",
    "y_rungekutta[0] = y_actual[0]\n",
    "\n",
    "yp_rungekutta = np.zeros(x.shape)\n",
    "yp_rungekutta[0] = yp_actual[0]\n",
    "\n",
    "x_i = x[0]\n",
    "y_i = np.float32([y_rungekutta[0], yp_rungekutta[0]])\n",
    "for i in range(1,x.shape[0]):\n",
    "    f0 = np.float32([y_i[1], f(x_i,y_i[0],y_i[1])])\n",
    "    f1 = np.float32([y_i[1]+0.5*h*f0[1], f(x_i+0.5*h,y_i[0]+0.5*h*f0[0],y_i[1]+0.5*h*f0[1])])\n",
    "    f2 = np.float32([y_i[1]+0.5*h*f1[1], f(x_i+0.5*h,y_i[0]+0.5*h*f1[0],y_i[1]+0.5*h*f1[1])])\n",
    "    f3 = np.float32([y_i[1]+h*f2[1], f(x_i+h,y_i[0]+h*f2[0],y_i[1]+h*f2[1])])\n",
    "    y_rungekutta[i], yp_rungekutta[i] = y_i + h*(f0+2*f1+2*f2+f3)/6\n",
    "    x_i = x[i]    \n",
    "    y_i = np.float32([y_rungekutta[i], yp_rungekutta[i]])"
   ]
  },
  {
   "cell_type": "code",
   "execution_count": 23,
   "id": "c230e7d7-e599-492e-8c06-f0ce12c632ca",
   "metadata": {},
   "outputs": [],
   "source": [
    "y_velocityverlet = np.zeros(x.shape)\n",
    "y_velocityverlet[0] = y_actual[0]\n",
    "\n",
    "yp_velocityverlet = np.zeros(x.shape)\n",
    "yp_velocityverlet[0] = yp_actual[0]\n",
    "\n",
    "x_i = x[0]\n",
    "y_i = y_velocityverlet[0]\n",
    "yp_i = yp_velocityverlet[0]\n",
    "\n",
    "for i in range(1,x.shape[0]):\n",
    "    \n",
    "    f0 = f(x_i, y_i, yp_i) # for velocity verlet assumes f is dependent on x and y only\n",
    "    f1 = f(x_i+h, y_i+h*yp_i, yp_i+h*f0)\n",
    "    \n",
    "    y_velocityverlet[i] = y_i + h*yp_i + 0.5*(h**2)*f0\n",
    "    yp_velocityverlet[i] = yp_i + 0.5*(h**2)*(f0+f1)\n",
    "\n",
    "    x_i = x[i]\n",
    "    y_i = y_velocityverlet[i]\n",
    "    yp_i = yp_velocityverlet[i]"
   ]
  },
  {
   "cell_type": "code",
   "execution_count": 3,
   "id": "815a305e-b191-4026-973c-a3c7adea344c",
   "metadata": {},
   "outputs": [],
   "source": [
    "rng = np.random.default_rng()\n",
    "y_gaussseidel = rng.uniform(-1,1,x.shape[0])\n",
    "y_gaussseidel[0] = y_actual[0]\n",
    "y_gaussseidel[-1] = y_actual[-1]\n",
    "\n",
    "temp = np.copy(y_gaussseidel)\n",
    "iteration = 0\n",
    "max_iter = 500\n",
    "eps = 1e-3\n",
    "diff = 1\n",
    "while (iteration<max_iter) and (diff>eps): \n",
    "    for i in range(1,x.shape[0]-1):\n",
    "        y_gaussseidel[i] = (y_gaussseidel[i-1]+y_gaussseidel[i+1])/(2+h**2)\n",
    "    diff = np.sum(np.abs(temp-y_gaussseidel))\n",
    "    temp = np.copy(y_gaussseidel)\n",
    "    iteration += 1\n"
   ]
  },
  {
   "cell_type": "code",
   "execution_count": 3,
   "id": "cfc1636d-6185-4d65-8bbf-f249d5e3cfef",
   "metadata": {},
   "outputs": [
    {
     "name": "stdout",
     "output_type": "stream",
     "text": [
      "Maximum iterations reached without convergence.\n"
     ]
    }
   ],
   "source": [
    "def gauss_seidel(y, h, tolerance=1e-6, max_iterations=1000):\n",
    "    N = len(y) - 1\n",
    "    y_new = np.copy(y)\n",
    "    iterations = 0\n",
    "    error = tolerance + 1\n",
    "\n",
    "    while error > tolerance and iterations < max_iterations:\n",
    "        error = 0\n",
    "        for i in range(1, N):\n",
    "            y_new[i] = (y_new[i-1] + y_new[i+1]) / (2 - h**2)\n",
    "            error += abs(y_new[i] - y[i])\n",
    "            y[i] = y_new[i]\n",
    "        iterations += 1\n",
    "\n",
    "    if iterations == max_iterations:\n",
    "        print(\"Maximum iterations reached without convergence.\")\n",
    "\n",
    "    return y_new\n",
    "\n",
    "# Define parameters\n",
    "N = 100  # Number of intervals\n",
    "h = 2 * np.pi / N  # Step size\n",
    "# h = 0.001\n",
    "\n",
    "# Initialize y array with initial guess\n",
    "y = np.ones(N+1)\n",
    "\n",
    "# Apply boundary conditions\n",
    "y[0] = 1\n",
    "y[-1] = 1\n",
    "\n",
    "# Solve using Gauss-Seidel method\n",
    "y_solution = gauss_seidel(y, h)"
   ]
  },
  {
   "cell_type": "code",
   "execution_count": 26,
   "id": "6b3cab04-f5ca-4b90-b58e-37fe0b3ada01",
   "metadata": {},
   "outputs": [
    {
     "name": "stdout",
     "output_type": "stream",
     "text": [
      "Solution: [1.         0.99372556 0.98749036 ... 0.98749261 0.99372669 1.        ]\n"
     ]
    }
   ],
   "source": [
    "import numpy as np\n",
    "\n",
    "def SOR(y, h, omega, tolerance=1e-6, max_iterations=1000):\n",
    "    N = len(y) - 1\n",
    "    y_new = np.copy(y)\n",
    "    iterations = 0\n",
    "    error = tolerance + 1\n",
    "\n",
    "    while error > tolerance and iterations < max_iterations:\n",
    "        error = 0\n",
    "        for i in range(1, N):\n",
    "            y_old = y_new[i]\n",
    "            y_new[i] = (1 - omega) * y_old + omega * (y_new[i-1] + y_new[i+1]) / (2 + h**2)\n",
    "            error += abs(y_new[i] - y_old)\n",
    "        iterations += 1\n",
    "\n",
    "    if iterations == max_iterations:\n",
    "        print(\"Maximum iterations reached without convergence.\")\n",
    "\n",
    "    return y_new\n",
    "\n",
    "# Define parameters\n",
    "N = 1000  # Number of intervals\n",
    "h = 2*np.pi / (N)  # Step size\n",
    "omega = 1.5  # Relaxation parameter\n",
    "tolerance=1e-3\n",
    "max_iterations=100000\n",
    "\n",
    "# Initialize y array with initial guess\n",
    "y = np.linspace(0, 0, N+1)\n",
    "\n",
    "# Apply boundary conditions\n",
    "y[0] = 1\n",
    "y[-1] = np.cos(2*np.pi)\n",
    "\n",
    "# Solve using SOR method\n",
    "y_solution = SOR(y, h, omega,tolerance, max_iterations)\n",
    "\n",
    "print(\"Solution:\", y_solution)\n"
   ]
  },
  {
   "cell_type": "code",
   "execution_count": 27,
   "id": "9e44b560-5af8-4738-b6e0-d138c82005a7",
   "metadata": {},
   "outputs": [
    {
     "data": {
      "text/plain": [
       "[<matplotlib.lines.Line2D at 0x7f3799d80040>]"
      ]
     },
     "execution_count": 27,
     "metadata": {},
     "output_type": "execute_result"
    },
    {
     "data": {
      "image/png": "[encoded data removed]",
      "text/plain": [
       "<Figure size 640x480 with 1 Axes>"
      ]
     },
     "metadata": {},
     "output_type": "display_data"
    }
   ],
   "source": [
    "plt.plot(y_solution)"
   ]
  },
  {
   "cell_type": "code",
   "execution_count": 9,
   "id": "1c1e9154-17a2-4a71-be6e-fe7de13f40af",
   "metadata": {},
   "outputs": [],
   "source": [
    "def plotter(x, y, labels, title):\n",
    "    \"\"\"\n",
    "    Plot the winnings against spins\n",
    "    \n",
    "    :param data: np array of shape (m,n) where m=episodes, n=spins\n",
    "    :param label: list of name strings of each episodes\n",
    "    :param title: name string of graph title\n",
    "    :return: matplotlib figure of graph\n",
    "    \"\"\"\n",
    "\n",
    "    shp = y.shape\n",
    "    \n",
    "    figsize = (11.69, 8.27)\n",
    "    \n",
    "    fig, ax = plt.subplots(figsize=figsize)\n",
    "    \n",
    "    for i in range(len(labels)):\n",
    "        ax.plot(x, y[i,:], label=labels[i])\n",
    "    \n",
    "    ax.set_xlabel('x')\n",
    "    ax.set_ylabel('y')\n",
    "    ax.set_title(title)\n",
    "    ax.legend()\n",
    "    \n",
    "    return fig"
   ]
  },
  {
   "cell_type": "code",
   "execution_count": 28,
   "id": "dffe5f55-acd9-40e0-83ee-1dd2c6c6c378",
   "metadata": {},
   "outputs": [
    {
     "data": {
      "image/png": "[encoded data removed]",
      "text/plain": [
       "<Figure size 1169x827 with 1 Axes>"
      ]
     },
     "metadata": {},
     "output_type": "display_data"
    }
   ],
   "source": [
    "y = np.zeros((6,x.shape[0]))\n",
    "y[0,:] = y_actual\n",
    "y[1,:] = y_forwardeuler\n",
    "y[2,:] = y_heun\n",
    "y[3,:] = y_rungekutta\n",
    "y[4,:] = y_velocityverlet\n",
    "# y[5,:] = y_gaussseidel\n",
    "# labels = ['actual', 'forward euler', 'heun', 'rungekutta', 'velocity verlet', 'gaussseidel']\n",
    "labels = ['actual', 'forward euler', 'heun', 'rungekutta']\n",
    "title = 'ode'\n",
    "fig = plotter(x, y, labels, title)"
   ]
  }
 ],
 "metadata": {
  "kernelspec": {
   "display_name": "Python 3 (ipykernel)",
   "language": "python",
   "name": "python3"
  },
  "language_info": {
   "codemirror_mode": {
    "name": "ipython",
    "version": 3
   },
   "file_extension": ".py",
   "mimetype": "text/x-python",
   "name": "python",
   "nbconvert_exporter": "python",
   "pygments_lexer": "ipython3",
   "version": "3.10.5"
  }
 },
 "nbformat": 4,
 "nbformat_minor": 5
}
